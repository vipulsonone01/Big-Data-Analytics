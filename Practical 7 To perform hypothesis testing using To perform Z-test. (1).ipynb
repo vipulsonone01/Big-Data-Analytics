{
 "cells": [
  {
   "cell_type": "code",
   "execution_count": 1,
   "id": "68f11413",
   "metadata": {},
   "outputs": [],
   "source": [
    "# Experiment No:-7"
   ]
  },
  {
   "cell_type": "code",
   "execution_count": 2,
   "id": "974b1301",
   "metadata": {},
   "outputs": [],
   "source": [
    "# Aim:-To perform hypothesis testing using To perform Z-test."
   ]
  },
  {
   "cell_type": "code",
   "execution_count": 3,
   "id": "5dcba85e",
   "metadata": {},
   "outputs": [],
   "source": [
    "# Name:-Vipul Ajabrao Sonone "
   ]
  },
  {
   "cell_type": "code",
   "execution_count": 4,
   "id": "c465d2e1",
   "metadata": {},
   "outputs": [],
   "source": [
    "# Roll No:-59"
   ]
  },
  {
   "cell_type": "code",
   "execution_count": 5,
   "id": "ddbdb230",
   "metadata": {},
   "outputs": [],
   "source": [
    "# Section:-B"
   ]
  },
  {
   "cell_type": "code",
   "execution_count": 6,
   "id": "4054d87a",
   "metadata": {},
   "outputs": [],
   "source": [
    "# Python program to implement One Sample Z-Test\n",
    "# Importing the required libraries\n",
    "import pandas as pd\n",
    "from scipy import stats\n",
    "from statsmodels.stats import weightstats as stests"
   ]
  },
  {
   "cell_type": "code",
   "execution_count": 7,
   "id": "b2845e24",
   "metadata": {},
   "outputs": [],
   "source": [
    "# Creating a dataset\n",
    "data = [89, 93, 95, 93, 97, 98, 96, 99, 93, 97,\n",
    "110, 104, 119, 105, 104, 110, 110, 112, 115, 114]"
   ]
  },
  {
   "cell_type": "code",
   "execution_count": 8,
   "id": "d26a30d4",
   "metadata": {},
   "outputs": [
    {
     "name": "stdout",
     "output_type": "stream",
     "text": [
      "2.417334226169332e-186\n"
     ]
    }
   ],
   "source": [
    "# Performing the z-test\n",
    "z_test ,p_val = stests.ztest(data, x2 = None, value = 160)\n",
    "print(p_val)"
   ]
  },
  {
   "cell_type": "code",
   "execution_count": 9,
   "id": "6922c65a",
   "metadata": {},
   "outputs": [
    {
     "name": "stdout",
     "output_type": "stream",
     "text": [
      "We can reject the null hypothesis\n"
     ]
    }
   ],
   "source": [
    "# taking the threshold value as 0.05 or 5%\n",
    "if p_val < 0.05:\n",
    "    print(\"We can reject the null hypothesis\")\n",
    "else:\n",
    "    print(\"We can accept the null hypothesis\")"
   ]
  },
  {
   "cell_type": "code",
   "execution_count": null,
   "id": "1e63f80c",
   "metadata": {},
   "outputs": [],
   "source": []
  }
 ],
 "metadata": {
  "kernelspec": {
   "display_name": "Python 3 (ipykernel)",
   "language": "python",
   "name": "python3"
  },
  "language_info": {
   "codemirror_mode": {
    "name": "ipython",
    "version": 3
   },
   "file_extension": ".py",
   "mimetype": "text/x-python",
   "name": "python",
   "nbconvert_exporter": "python",
   "pygments_lexer": "ipython3",
   "version": "3.9.7"
  }
 },
 "nbformat": 4,
 "nbformat_minor": 5
}
